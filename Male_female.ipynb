{
 "cells": [
  {
   "cell_type": "code",
   "execution_count": 1,
   "metadata": {},
   "outputs": [],
   "source": [
    "import pandas as pd\n",
    "import numpy as np"
   ]
  },
  {
   "cell_type": "code",
   "execution_count": 2,
   "metadata": {},
   "outputs": [
    {
     "name": "stderr",
     "output_type": "stream",
     "text": [
      "E:\\Anaconda\\lib\\site-packages\\IPython\\core\\interactiveshell.py:3063: DtypeWarning: Columns (10,14) have mixed types.Specify dtype option on import or set low_memory=False.\n",
      "  interactivity=interactivity, compiler=compiler, result=result)\n"
     ]
    }
   ],
   "source": [
    "df=pd.read_csv('C:\\\\Users\\\\HP\\\\Project\\\\data\\\\combined_csv.csv')"
   ]
  },
  {
   "cell_type": "code",
   "execution_count": 3,
   "metadata": {},
   "outputs": [
    {
     "data": {
      "text/plain": [
       "1216655"
      ]
     },
     "execution_count": 3,
     "metadata": {},
     "output_type": "execute_result"
    }
   ],
   "source": [
    "data = df[(df['Age_Code']=='Year')&(df['Age']>=18)]\n",
    "len(data)"
   ]
  },
  {
   "cell_type": "code",
   "execution_count": 4,
   "metadata": {},
   "outputs": [],
   "source": [
    "#Drop rows in which HB is null\n",
    "data = data.dropna(subset=['Haemoglobin_level'],axis=0)\n"
   ]
  },
  {
   "cell_type": "code",
   "execution_count": 5,
   "metadata": {},
   "outputs": [],
   "source": [
    "#Drop Columns of 3 years and 5 years\n",
    "cols_under5 = ['illness_type','illness_duration', 'treatment_type']\n",
    "cols_under3 = ['first_breast_feeding', 'is_cur_breast_feeding',\n",
    "       'day_or_mn_for_breast_feeding_cd', 'day_or_month_for_breast_feeding',\n",
    "       'water_month', 'ani_milk_month', 'semisolid_month_or_day',\n",
    "       'solid_month', 'vegetables_month_or_day']\n",
    "data = data.drop(cols_under5, axis = 1)\n",
    "data = data.drop(cols_under3, axis = 1)"
   ]
  },
  {
   "cell_type": "code",
   "execution_count": 6,
   "metadata": {},
   "outputs": [],
   "source": [
    "# Drop unwanted variables\n",
    "data = data.drop(['PSU_ID', 'ahs_house_unit', 'house_hold_no','date_survey', 'record_code_iodine_reason', 'sl_no', 'usual_residance', 'usual_residance_Reason', 'identification_code','Age_Code','date_of_birth', 'month_of_birth', 'year_of_birth','Weight_measured','Length_height_measured',\n",
    "       'length_height_code','Haemoglobin_test','Haemoglobin','Diabetes_test', 'fasting_blood_glucose'], axis = 1)"
   ]
  },
  {
   "cell_type": "code",
   "execution_count": null,
   "metadata": {},
   "outputs": [],
   "source": [
    "# Mapping the labels non numeric to numeric"
   ]
  },
  {
   "cell_type": "code",
   "execution_count": 7,
   "metadata": {},
   "outputs": [],
   "source": [
    "\n",
    "data['Sex'] = data['Sex'].map({'Male': 1, 'Female': 2})"
   ]
  },
  {
   "cell_type": "code",
   "execution_count": 8,
   "metadata": {},
   "outputs": [],
   "source": [
    "data['state_code'] = data['state_code'].astype('category')\n",
    "# Assigning numerical values and storing in another column\n",
    "data['state_code'] = data['state_code'].cat.codes"
   ]
  },
  {
   "cell_type": "code",
   "execution_count": 9,
   "metadata": {},
   "outputs": [],
   "source": [
    "data['rural_urban'] = data['rural_urban'].astype('category')\n",
    "# Assigning numerical values and storing in another column\n",
    "data['rural_urban'] = data['rural_urban'].cat.codes\n"
   ]
  },
  {
   "cell_type": "code",
   "execution_count": 10,
   "metadata": {},
   "outputs": [],
   "source": [
    "data['district_code'] = data['district_code'].astype('category')\n",
    "# Assigning numerical values and storing in another column\n",
    "data['district_code'] = data['district_code'].cat.codes\n"
   ]
  },
  {
   "cell_type": "code",
   "execution_count": 11,
   "metadata": {},
   "outputs": [],
   "source": [
    "data['stratum'] = data['stratum'].astype('category')\n",
    "# Assigning numerical values and storing in another column\n",
    "data['stratum'] = data['stratum'].cat.codes"
   ]
  },
  {
   "cell_type": "code",
   "execution_count": 12,
   "metadata": {},
   "outputs": [],
   "source": [
    "data['record_code_iodine'] = data['record_code_iodine'].astype('category')\n",
    "# Assigning numerical values and storing in another column\n",
    "data['record_code_iodine'] = data['record_code_iodine'].cat.codes"
   ]
  },
  {
   "cell_type": "code",
   "execution_count": 13,
   "metadata": {},
   "outputs": [
    {
     "data": {
      "text/plain": [
       "Married and Gauna perfomed         225841\n",
       "Never married                       51874\n",
       "Married but Gauna not performed      6092\n",
       "Widow                                4279\n",
       "Separated                             782\n",
       "Not Stated                            755\n",
       "Divorced                              364\n",
       "Remarried                             240\n",
       "Name: Marital_status, dtype: int64"
      ]
     },
     "execution_count": 13,
     "metadata": {},
     "output_type": "execute_result"
    }
   ],
   "source": [
    "data['Marital_status'].value_counts()"
   ]
  },
  {
   "cell_type": "code",
   "execution_count": 14,
   "metadata": {},
   "outputs": [],
   "source": [
    "data['Marital_status'] = data['Marital_status'].map({'Married and Gauna perfomed': 1, 'Never married': 2,'Married but Gauna not performed':3,'Widow':4,\n",
    "                                                    'Separated':5,'Divorced':6,'Remarried':7,'Not Stated':8,'NaN':-1})"
   ]
  },
  {
   "cell_type": "code",
   "execution_count": 15,
   "metadata": {},
   "outputs": [],
   "source": [
    "data['Marital_status'] = data['Marital_status'].where(~(data['Marital_status']==8.0), other = np.nan)"
   ]
  },
  {
   "cell_type": "code",
   "execution_count": null,
   "metadata": {},
   "outputs": [],
   "source": [
    "# Plot the weight and height in which they are not null "
   ]
  },
  {
   "cell_type": "code",
   "execution_count": 17,
   "metadata": {},
   "outputs": [],
   "source": [
    "from matplotlib import pyplot as plt # plotting\n",
    "from math import *"
   ]
  },
  {
   "cell_type": "code",
   "execution_count": 18,
   "metadata": {},
   "outputs": [
    {
     "data": {
      "text/plain": [
       "<function matplotlib.pyplot.show(*args, **kw)>"
      ]
     },
     "execution_count": 18,
     "metadata": {},
     "output_type": "execute_result"
    },
    {
     "data": {
      "image/png": "[encoded data removed]",
      "text/plain": [
       "<Figure size 432x288 with 1 Axes>"
      ]
     },
     "metadata": {
      "needs_background": "light"
     },
     "output_type": "display_data"
    }
   ],
   "source": [
    "plt.boxplot(data['Weight_in_kg'].dropna())\n",
    "plt.title('Weight with outliers')\n",
    "plt.show"
   ]
  },
  {
   "cell_type": "code",
   "execution_count": 19,
   "metadata": {},
   "outputs": [
    {
     "data": {
      "text/plain": [
       "<function matplotlib.pyplot.show(*args, **kw)>"
      ]
     },
     "execution_count": 19,
     "metadata": {},
     "output_type": "execute_result"
    },
    {
     "data": {
      "image/png": "[encoded data removed]",
      "text/plain": [
       "<Figure size 432x288 with 1 Axes>"
      ]
     },
     "metadata": {
      "needs_background": "light"
     },
     "output_type": "display_data"
    }
   ],
   "source": [
    "plt.boxplot(data['Length_height_cm'].dropna())\n",
    "plt.title('Height with outliers')\n",
    "plt.show"
   ]
  },
  {
   "cell_type": "code",
   "execution_count": null,
   "metadata": {},
   "outputs": [],
   "source": [
    "# Remove outliers for height and weight"
   ]
  },
  {
   "cell_type": "code",
   "execution_count": 20,
   "metadata": {},
   "outputs": [],
   "source": [
    "def remove_outliers(data, feature):\n",
    "    stdev = sqrt(np.var(data[feature].dropna()))\n",
    "    median = np.median(data[feature].dropna())\n",
    "    print(\"number of discarded measurements\")\n",
    "    display(len(data[[feature]].where(abs(data[feature] - median)>(3*stdev)).dropna()))\n",
    "# keep original values if difference from mean is less than 3 standard deviations. NA otherwise\n",
    "    return data[[feature]].where(abs(data[feature] - median)<(3*stdev), other = np.nan)"
   ]
  },
  {
   "cell_type": "code",
   "execution_count": 21,
   "metadata": {},
   "outputs": [
    {
     "name": "stdout",
     "output_type": "stream",
     "text": [
      "number of discarded measurements\n"
     ]
    },
    {
     "data": {
      "text/plain": [
       "2597"
      ]
     },
     "metadata": {},
     "output_type": "display_data"
    }
   ],
   "source": [
    "data['Length_height_cm'] = remove_outliers(data, 'Length_height_cm')"
   ]
  },
  {
   "cell_type": "code",
   "execution_count": 22,
   "metadata": {},
   "outputs": [
    {
     "name": "stdout",
     "output_type": "stream",
     "text": [
      "number of discarded measurements\n"
     ]
    },
    {
     "data": {
      "text/plain": [
       "871"
      ]
     },
     "metadata": {},
     "output_type": "display_data"
    }
   ],
   "source": [
    "print('number of discarded measurements')\n",
    "display(len(data[data['Weight_in_kg']<20]))\n",
    "data['Weight_in_kg'] = data['Weight_in_kg'].where(data['Weight_in_kg']>20, other=np.nan)"
   ]
  },
  {
   "cell_type": "code",
   "execution_count": 23,
   "metadata": {},
   "outputs": [
    {
     "data": {
      "text/plain": [
       "<function matplotlib.pyplot.show(*args, **kw)>"
      ]
     },
     "execution_count": 23,
     "metadata": {},
     "output_type": "execute_result"
    },
    {
     "data": {
      "image/png": "[encoded data removed]",
      "text/plain": [
       "<Figure size 432x288 with 1 Axes>"
      ]
     },
     "metadata": {
      "needs_background": "light"
     },
     "output_type": "display_data"
    }
   ],
   "source": [
    "plt.boxplot(data['Weight_in_kg'].dropna())\n",
    "plt.title('Weight without outliers')\n",
    "plt.show"
   ]
  },
  {
   "cell_type": "code",
   "execution_count": 24,
   "metadata": {},
   "outputs": [
    {
     "data": {
      "text/plain": [
       "<function matplotlib.pyplot.show(*args, **kw)>"
      ]
     },
     "execution_count": 24,
     "metadata": {},
     "output_type": "execute_result"
    },
    {
     "data": {
      "image/png": "[encoded data removed]",
      "text/plain": [
       "<Figure size 432x288 with 1 Axes>"
      ]
     },
     "metadata": {
      "needs_background": "light"
     },
     "output_type": "display_data"
    }
   ],
   "source": [
    "plt.boxplot(data['Length_height_cm'].dropna())\n",
    "plt.title('Height without outliers')\n",
    "plt.show"
   ]
  },
  {
   "cell_type": "code",
   "execution_count": null,
   "metadata": {},
   "outputs": [],
   "source": [
    "# Calculate body mass index for male and female age above 18"
   ]
  },
  {
   "cell_type": "code",
   "execution_count": 25,
   "metadata": {},
   "outputs": [],
   "source": [
    "data['bmi'] = data['Weight_in_kg']/(data['Length_height_cm']/100)**2"
   ]
  },
  {
   "cell_type": "code",
   "execution_count": 26,
   "metadata": {},
   "outputs": [
    {
     "data": {
      "image/png": "[encoded data removed]",
      "text/plain": [
       "<Figure size 432x288 with 1 Axes>"
      ]
     },
     "metadata": {
      "needs_background": "light"
     },
     "output_type": "display_data"
    }
   ],
   "source": [
    "plt.boxplot(data['Weight_in_kg'].dropna())\n",
    "plt.title('Weight without outliers')\n",
    "plt.show()"
   ]
  },
  {
   "cell_type": "code",
   "execution_count": 27,
   "metadata": {},
   "outputs": [
    {
     "data": {
      "image/png": "[encoded data removed]",
      "text/plain": [
       "<Figure size 432x288 with 1 Axes>"
      ]
     },
     "metadata": {
      "needs_background": "light"
     },
     "output_type": "display_data"
    }
   ],
   "source": [
    "plt.hist(data['Length_height_cm'].dropna(), bins = 50)\n",
    "plt.title('Height without outliers')\n",
    "plt.show()\n"
   ]
  },
  {
   "cell_type": "code",
   "execution_count": 28,
   "metadata": {},
   "outputs": [
    {
     "data": {
      "image/png": "[encoded data removed]",
      "text/plain": [
       "<Figure size 432x288 with 1 Axes>"
      ]
     },
     "metadata": {
      "needs_background": "light"
     },
     "output_type": "display_data"
    }
   ],
   "source": [
    "plt.boxplot(data['bmi'].dropna())\n",
    "plt.title('BMI')\n",
    "plt.show()"
   ]
  },
  {
   "cell_type": "code",
   "execution_count": null,
   "metadata": {},
   "outputs": [],
   "source": [
    "# Remove outliers for BP Systolic, BP Diastolic And Pulse Rate "
   ]
  },
  {
   "cell_type": "code",
   "execution_count": 29,
   "metadata": {},
   "outputs": [],
   "source": [
    "def remove_outliers_difference(data, col1, col2):\n",
    "    stdev = sqrt((data[col1] - data[col2]).var())\n",
    "# how many measurements were excluded\n",
    "    print('number of discarded measurements')\n",
    "    display(len(data[[col1, col2]].where(abs(data[col1] - data[col2])>(3*stdev)).dropna()))\n",
    "# keep original values if difference of two measurements is less than 3 standard deviations. NA otherwise\n",
    "    return data[[col1, col2]].where(abs(data[col1] - data[col2])<(3*stdev), other = np.nan)"
   ]
  },
  {
   "cell_type": "code",
   "execution_count": 30,
   "metadata": {},
   "outputs": [
    {
     "name": "stdout",
     "output_type": "stream",
     "text": [
      "number of discarded measurements\n"
     ]
    },
    {
     "data": {
      "text/plain": [
       "10498"
      ]
     },
     "metadata": {},
     "output_type": "display_data"
    },
    {
     "name": "stdout",
     "output_type": "stream",
     "text": [
      "number of discarded measurements\n"
     ]
    },
    {
     "data": {
      "text/plain": [
       "13161"
      ]
     },
     "metadata": {},
     "output_type": "display_data"
    },
    {
     "name": "stdout",
     "output_type": "stream",
     "text": [
      "number of discarded measurements\n"
     ]
    },
    {
     "data": {
      "text/plain": [
       "12254"
      ]
     },
     "metadata": {},
     "output_type": "display_data"
    }
   ],
   "source": [
    "data[['BP_systolic', 'BP_systolic_2_reading']] = remove_outliers_difference(data, 'BP_systolic', 'BP_systolic_2_reading')\n",
    "data[['BP_Diastolic', 'BP_Diastolic_2reading']] = remove_outliers_difference(data, 'BP_Diastolic', 'BP_Diastolic_2reading')\n",
    "data[['Pulse_rate', 'Pulse_rate_2_reading']] = remove_outliers_difference(data, 'Pulse_rate', 'Pulse_rate_2_reading')"
   ]
  },
  {
   "cell_type": "code",
   "execution_count": null,
   "metadata": {},
   "outputs": [],
   "source": [
    "# function for aggregate_reading of BP_systolic,BP_Diastolic and Pulse_rate"
   ]
  },
  {
   "cell_type": "code",
   "execution_count": 31,
   "metadata": {},
   "outputs": [],
   "source": [
    "def aggregate_readings(data, col1, col2):\n",
    "    data[col1] = data.apply(lambda row: sum([row[col1], row[col2]])/2, axis = 1)\n",
    "    data = data.drop(col2, axis = 1)\n",
    "    return data"
   ]
  },
  {
   "cell_type": "code",
   "execution_count": 32,
   "metadata": {},
   "outputs": [],
   "source": [
    "data = aggregate_readings(data, 'BP_systolic', 'BP_systolic_2_reading')\n",
    "data = aggregate_readings(data, 'BP_Diastolic', 'BP_Diastolic_2reading')\n",
    "data = aggregate_readings(data, 'Pulse_rate', 'Pulse_rate_2_reading')"
   ]
  },
  {
   "cell_type": "code",
   "execution_count": 33,
   "metadata": {},
   "outputs": [],
   "source": [
    "data[['BP_Diastolic', 'BP_systolic']] = data[['BP_Diastolic', 'BP_systolic']].where(data.BP_Diastolic < data.BP_systolic, other = np.nan)"
   ]
  },
  {
   "cell_type": "code",
   "execution_count": null,
   "metadata": {},
   "outputs": [],
   "source": [
    "#Plot Histogram for HB & fasting_blood_glucose"
   ]
  },
  {
   "cell_type": "code",
   "execution_count": 34,
   "metadata": {},
   "outputs": [
    {
     "data": {
      "text/plain": [
       "<function matplotlib.pyplot.show(*args, **kw)>"
      ]
     },
     "execution_count": 34,
     "metadata": {},
     "output_type": "execute_result"
    },
    {
     "data": {
      "image/png": "[encoded data removed]",
      "text/plain": [
       "<Figure size 432x288 with 1 Axes>"
      ]
     },
     "metadata": {
      "needs_background": "light"
     },
     "output_type": "display_data"
    }
   ],
   "source": [
    "plt.hist(data['Haemoglobin_level'], bins = 50)\n",
    "plt.title('Blood haemoglobin')\n",
    "plt.show"
   ]
  },
  {
   "cell_type": "code",
   "execution_count": 35,
   "metadata": {},
   "outputs": [
    {
     "data": {
      "text/plain": [
       "<function matplotlib.pyplot.show(*args, **kw)>"
      ]
     },
     "execution_count": 35,
     "metadata": {},
     "output_type": "execute_result"
    },
    {
     "data": {
      "image/png": "[encoded data removed]",
      "text/plain": [
       "<Figure size 432x288 with 1 Axes>"
      ]
     },
     "metadata": {
      "needs_background": "light"
     },
     "output_type": "display_data"
    }
   ],
   "source": [
    "plt.hist(data.fasting_blood_glucose_mg_dl[~np.isnan(data.fasting_blood_glucose_mg_dl)], bins=50)\n",
    "plt.title('Blood sugar')\n",
    "plt.show"
   ]
  },
  {
   "cell_type": "code",
   "execution_count": null,
   "metadata": {},
   "outputs": [],
   "source": [
    "#Remove Outliers for fasting_blood_glucose"
   ]
  },
  {
   "cell_type": "code",
   "execution_count": 36,
   "metadata": {},
   "outputs": [
    {
     "name": "stdout",
     "output_type": "stream",
     "text": [
      "number of discarded measurements\n"
     ]
    },
    {
     "data": {
      "text/plain": [
       "10931"
      ]
     },
     "metadata": {},
     "output_type": "display_data"
    }
   ],
   "source": [
    "data['fasting_blood_glucose_mg_dl'] = remove_outliers(data,'fasting_blood_glucose_mg_dl')"
   ]
  },
  {
   "cell_type": "code",
   "execution_count": null,
   "metadata": {},
   "outputs": [],
   "source": [
    "#Plot boxplot for duration_pregnancy where months are not null"
   ]
  },
  {
   "cell_type": "code",
   "execution_count": 37,
   "metadata": {},
   "outputs": [
    {
     "data": {
      "text/plain": [
       "<function matplotlib.pyplot.show(*args, **kw)>"
      ]
     },
     "execution_count": 37,
     "metadata": {},
     "output_type": "execute_result"
    },
    {
     "data": {
      "image/png": "[encoded data removed]",
      "text/plain": [
       "<Figure size 432x288 with 1 Axes>"
      ]
     },
     "metadata": {
      "needs_background": "light"
     },
     "output_type": "display_data"
    }
   ],
   "source": [
    "plt.boxplot(data['duration_pregnanacy'].dropna())\n",
    "plt.show"
   ]
  },
  {
   "cell_type": "code",
   "execution_count": null,
   "metadata": {},
   "outputs": [],
   "source": [
    "# Correlation Biomarkers with all other variables"
   ]
  },
  {
   "cell_type": "code",
   "execution_count": 38,
   "metadata": {},
   "outputs": [
    {
     "data": {
      "text/html": [
       "<div>\n",
       "<style scoped>\n",
       "    .dataframe tbody tr th:only-of-type {\n",
       "        vertical-align: middle;\n",
       "    }\n",
       "\n",
       "    .dataframe tbody tr th {\n",
       "        vertical-align: top;\n",
       "    }\n",
       "\n",
       "    .dataframe thead th {\n",
       "        text-align: right;\n",
       "    }\n",
       "</style>\n",
       "<table border=\"1\" class=\"dataframe\">\n",
       "  <thead>\n",
       "    <tr style=\"text-align: right;\">\n",
       "      <th></th>\n",
       "      <th>Haemoglobin_level</th>\n",
       "      <th>Pulse_rate</th>\n",
       "      <th>BP_Diastolic</th>\n",
       "      <th>BP_systolic</th>\n",
       "      <th>fasting_blood_glucose_mg_dl</th>\n",
       "    </tr>\n",
       "  </thead>\n",
       "  <tbody>\n",
       "    <tr>\n",
       "      <th>state_code</th>\n",
       "      <td>NaN</td>\n",
       "      <td>NaN</td>\n",
       "      <td>NaN</td>\n",
       "      <td>NaN</td>\n",
       "      <td>NaN</td>\n",
       "    </tr>\n",
       "    <tr>\n",
       "      <th>district_code</th>\n",
       "      <td>NaN</td>\n",
       "      <td>NaN</td>\n",
       "      <td>NaN</td>\n",
       "      <td>NaN</td>\n",
       "      <td>NaN</td>\n",
       "    </tr>\n",
       "    <tr>\n",
       "      <th>rural_urban</th>\n",
       "      <td>NaN</td>\n",
       "      <td>NaN</td>\n",
       "      <td>NaN</td>\n",
       "      <td>NaN</td>\n",
       "      <td>NaN</td>\n",
       "    </tr>\n",
       "    <tr>\n",
       "      <th>stratum</th>\n",
       "      <td>NaN</td>\n",
       "      <td>NaN</td>\n",
       "      <td>NaN</td>\n",
       "      <td>NaN</td>\n",
       "      <td>NaN</td>\n",
       "    </tr>\n",
       "    <tr>\n",
       "      <th>test_salt_iodine</th>\n",
       "      <td>NaN</td>\n",
       "      <td>NaN</td>\n",
       "      <td>NaN</td>\n",
       "      <td>NaN</td>\n",
       "      <td>NaN</td>\n",
       "    </tr>\n",
       "    <tr>\n",
       "      <th>record_code_iodine</th>\n",
       "      <td>NaN</td>\n",
       "      <td>NaN</td>\n",
       "      <td>NaN</td>\n",
       "      <td>NaN</td>\n",
       "      <td>NaN</td>\n",
       "    </tr>\n",
       "    <tr>\n",
       "      <th>Sex</th>\n",
       "      <td>-0.169308</td>\n",
       "      <td>0.151439</td>\n",
       "      <td>NaN</td>\n",
       "      <td>NaN</td>\n",
       "      <td>NaN</td>\n",
       "    </tr>\n",
       "    <tr>\n",
       "      <th>Age</th>\n",
       "      <td>NaN</td>\n",
       "      <td>NaN</td>\n",
       "      <td>0.185795</td>\n",
       "      <td>0.329158</td>\n",
       "      <td>0.188794</td>\n",
       "    </tr>\n",
       "    <tr>\n",
       "      <th>Weight_in_kg</th>\n",
       "      <td>0.109813</td>\n",
       "      <td>NaN</td>\n",
       "      <td>0.210746</td>\n",
       "      <td>0.169638</td>\n",
       "      <td>NaN</td>\n",
       "    </tr>\n",
       "    <tr>\n",
       "      <th>Length_height_cm</th>\n",
       "      <td>0.169482</td>\n",
       "      <td>NaN</td>\n",
       "      <td>NaN</td>\n",
       "      <td>NaN</td>\n",
       "      <td>NaN</td>\n",
       "    </tr>\n",
       "    <tr>\n",
       "      <th>Haemoglobin_level</th>\n",
       "      <td>1.000000</td>\n",
       "      <td>NaN</td>\n",
       "      <td>NaN</td>\n",
       "      <td>NaN</td>\n",
       "      <td>NaN</td>\n",
       "    </tr>\n",
       "    <tr>\n",
       "      <th>BP_systolic</th>\n",
       "      <td>NaN</td>\n",
       "      <td>NaN</td>\n",
       "      <td>0.689020</td>\n",
       "      <td>1.000000</td>\n",
       "      <td>0.144944</td>\n",
       "    </tr>\n",
       "    <tr>\n",
       "      <th>BP_Diastolic</th>\n",
       "      <td>NaN</td>\n",
       "      <td>0.202858</td>\n",
       "      <td>1.000000</td>\n",
       "      <td>0.689020</td>\n",
       "      <td>0.106357</td>\n",
       "    </tr>\n",
       "    <tr>\n",
       "      <th>Pulse_rate</th>\n",
       "      <td>NaN</td>\n",
       "      <td>1.000000</td>\n",
       "      <td>0.202858</td>\n",
       "      <td>NaN</td>\n",
       "      <td>NaN</td>\n",
       "    </tr>\n",
       "    <tr>\n",
       "      <th>fasting_blood_glucose_mg_dl</th>\n",
       "      <td>NaN</td>\n",
       "      <td>NaN</td>\n",
       "      <td>0.106357</td>\n",
       "      <td>0.144944</td>\n",
       "      <td>1.000000</td>\n",
       "    </tr>\n",
       "    <tr>\n",
       "      <th>Marital_status</th>\n",
       "      <td>NaN</td>\n",
       "      <td>NaN</td>\n",
       "      <td>NaN</td>\n",
       "      <td>NaN</td>\n",
       "      <td>NaN</td>\n",
       "    </tr>\n",
       "    <tr>\n",
       "      <th>gauna_perfor_not_perfor</th>\n",
       "      <td>NaN</td>\n",
       "      <td>NaN</td>\n",
       "      <td>0.104954</td>\n",
       "      <td>0.113461</td>\n",
       "      <td>NaN</td>\n",
       "    </tr>\n",
       "    <tr>\n",
       "      <th>duration_pregnanacy</th>\n",
       "      <td>NaN</td>\n",
       "      <td>NaN</td>\n",
       "      <td>NaN</td>\n",
       "      <td>NaN</td>\n",
       "      <td>NaN</td>\n",
       "    </tr>\n",
       "    <tr>\n",
       "      <th>bmi</th>\n",
       "      <td>NaN</td>\n",
       "      <td>NaN</td>\n",
       "      <td>0.200982</td>\n",
       "      <td>0.171263</td>\n",
       "      <td>NaN</td>\n",
       "    </tr>\n",
       "  </tbody>\n",
       "</table>\n",
       "</div>"
      ],
      "text/plain": [
       "                             Haemoglobin_level  Pulse_rate  BP_Diastolic  \\\n",
       "state_code                                 NaN         NaN           NaN   \n",
       "district_code                              NaN         NaN           NaN   \n",
       "rural_urban                                NaN         NaN           NaN   \n",
       "stratum                                    NaN         NaN           NaN   \n",
       "test_salt_iodine                           NaN         NaN           NaN   \n",
       "record_code_iodine                         NaN         NaN           NaN   \n",
       "Sex                                  -0.169308    0.151439           NaN   \n",
       "Age                                        NaN         NaN      0.185795   \n",
       "Weight_in_kg                          0.109813         NaN      0.210746   \n",
       "Length_height_cm                      0.169482         NaN           NaN   \n",
       "Haemoglobin_level                     1.000000         NaN           NaN   \n",
       "BP_systolic                                NaN         NaN      0.689020   \n",
       "BP_Diastolic                               NaN    0.202858      1.000000   \n",
       "Pulse_rate                                 NaN    1.000000      0.202858   \n",
       "fasting_blood_glucose_mg_dl                NaN         NaN      0.106357   \n",
       "Marital_status                             NaN         NaN           NaN   \n",
       "gauna_perfor_not_perfor                    NaN         NaN      0.104954   \n",
       "duration_pregnanacy                        NaN         NaN           NaN   \n",
       "bmi                                        NaN         NaN      0.200982   \n",
       "\n",
       "                             BP_systolic  fasting_blood_glucose_mg_dl  \n",
       "state_code                           NaN                          NaN  \n",
       "district_code                        NaN                          NaN  \n",
       "rural_urban                          NaN                          NaN  \n",
       "stratum                              NaN                          NaN  \n",
       "test_salt_iodine                     NaN                          NaN  \n",
       "record_code_iodine                   NaN                          NaN  \n",
       "Sex                                  NaN                          NaN  \n",
       "Age                             0.329158                     0.188794  \n",
       "Weight_in_kg                    0.169638                          NaN  \n",
       "Length_height_cm                     NaN                          NaN  \n",
       "Haemoglobin_level                    NaN                          NaN  \n",
       "BP_systolic                     1.000000                     0.144944  \n",
       "BP_Diastolic                    0.689020                     0.106357  \n",
       "Pulse_rate                           NaN                          NaN  \n",
       "fasting_blood_glucose_mg_dl     0.144944                     1.000000  \n",
       "Marital_status                       NaN                          NaN  \n",
       "gauna_perfor_not_perfor         0.113461                          NaN  \n",
       "duration_pregnanacy                  NaN                          NaN  \n",
       "bmi                             0.171263                          NaN  "
      ]
     },
     "execution_count": 38,
     "metadata": {},
     "output_type": "execute_result"
    }
   ],
   "source": [
    "corr=data.corr()[['Haemoglobin_level', 'Pulse_rate', 'BP_Diastolic', 'BP_systolic', 'fasting_blood_glucose_mg_dl']]\n",
    "corr.where(abs(corr)>0.1)"
   ]
  },
  {
   "cell_type": "code",
   "execution_count": null,
   "metadata": {},
   "outputs": [],
   "source": [
    "#Drop the columns where not coorelation between the variables and biomarkers"
   ]
  },
  {
   "cell_type": "code",
   "execution_count": 39,
   "metadata": {},
   "outputs": [
    {
     "data": {
      "text/html": [
       "<div>\n",
       "<style scoped>\n",
       "    .dataframe tbody tr th:only-of-type {\n",
       "        vertical-align: middle;\n",
       "    }\n",
       "\n",
       "    .dataframe tbody tr th {\n",
       "        vertical-align: top;\n",
       "    }\n",
       "\n",
       "    .dataframe thead th {\n",
       "        text-align: right;\n",
       "    }\n",
       "</style>\n",
       "<table border=\"1\" class=\"dataframe\">\n",
       "  <thead>\n",
       "    <tr style=\"text-align: right;\">\n",
       "      <th></th>\n",
       "      <th>Haemoglobin_level</th>\n",
       "      <th>Pulse_rate</th>\n",
       "      <th>BP_Diastolic</th>\n",
       "      <th>BP_systolic</th>\n",
       "      <th>fasting_blood_glucose_mg_dl</th>\n",
       "    </tr>\n",
       "  </thead>\n",
       "  <tbody>\n",
       "    <tr>\n",
       "      <th>Sex</th>\n",
       "      <td>-0.169308</td>\n",
       "      <td>0.151439</td>\n",
       "      <td>NaN</td>\n",
       "      <td>NaN</td>\n",
       "      <td>NaN</td>\n",
       "    </tr>\n",
       "    <tr>\n",
       "      <th>Age</th>\n",
       "      <td>NaN</td>\n",
       "      <td>NaN</td>\n",
       "      <td>0.185795</td>\n",
       "      <td>0.329158</td>\n",
       "      <td>0.188794</td>\n",
       "    </tr>\n",
       "    <tr>\n",
       "      <th>Weight_in_kg</th>\n",
       "      <td>0.109813</td>\n",
       "      <td>NaN</td>\n",
       "      <td>0.210746</td>\n",
       "      <td>0.169638</td>\n",
       "      <td>NaN</td>\n",
       "    </tr>\n",
       "    <tr>\n",
       "      <th>Length_height_cm</th>\n",
       "      <td>0.169482</td>\n",
       "      <td>NaN</td>\n",
       "      <td>NaN</td>\n",
       "      <td>NaN</td>\n",
       "      <td>NaN</td>\n",
       "    </tr>\n",
       "    <tr>\n",
       "      <th>Haemoglobin_level</th>\n",
       "      <td>1.000000</td>\n",
       "      <td>NaN</td>\n",
       "      <td>NaN</td>\n",
       "      <td>NaN</td>\n",
       "      <td>NaN</td>\n",
       "    </tr>\n",
       "    <tr>\n",
       "      <th>BP_systolic</th>\n",
       "      <td>NaN</td>\n",
       "      <td>NaN</td>\n",
       "      <td>0.689020</td>\n",
       "      <td>1.000000</td>\n",
       "      <td>0.144944</td>\n",
       "    </tr>\n",
       "    <tr>\n",
       "      <th>BP_Diastolic</th>\n",
       "      <td>NaN</td>\n",
       "      <td>0.202858</td>\n",
       "      <td>1.000000</td>\n",
       "      <td>0.689020</td>\n",
       "      <td>0.106357</td>\n",
       "    </tr>\n",
       "    <tr>\n",
       "      <th>Pulse_rate</th>\n",
       "      <td>NaN</td>\n",
       "      <td>1.000000</td>\n",
       "      <td>0.202858</td>\n",
       "      <td>NaN</td>\n",
       "      <td>NaN</td>\n",
       "    </tr>\n",
       "    <tr>\n",
       "      <th>fasting_blood_glucose_mg_dl</th>\n",
       "      <td>NaN</td>\n",
       "      <td>NaN</td>\n",
       "      <td>0.106357</td>\n",
       "      <td>0.144944</td>\n",
       "      <td>1.000000</td>\n",
       "    </tr>\n",
       "    <tr>\n",
       "      <th>Marital_status</th>\n",
       "      <td>NaN</td>\n",
       "      <td>NaN</td>\n",
       "      <td>NaN</td>\n",
       "      <td>NaN</td>\n",
       "      <td>NaN</td>\n",
       "    </tr>\n",
       "    <tr>\n",
       "      <th>gauna_perfor_not_perfor</th>\n",
       "      <td>NaN</td>\n",
       "      <td>NaN</td>\n",
       "      <td>0.104954</td>\n",
       "      <td>0.113461</td>\n",
       "      <td>NaN</td>\n",
       "    </tr>\n",
       "    <tr>\n",
       "      <th>bmi</th>\n",
       "      <td>NaN</td>\n",
       "      <td>NaN</td>\n",
       "      <td>0.200982</td>\n",
       "      <td>0.171263</td>\n",
       "      <td>NaN</td>\n",
       "    </tr>\n",
       "  </tbody>\n",
       "</table>\n",
       "</div>"
      ],
      "text/plain": [
       "                             Haemoglobin_level  Pulse_rate  BP_Diastolic  \\\n",
       "Sex                                  -0.169308    0.151439           NaN   \n",
       "Age                                        NaN         NaN      0.185795   \n",
       "Weight_in_kg                          0.109813         NaN      0.210746   \n",
       "Length_height_cm                      0.169482         NaN           NaN   \n",
       "Haemoglobin_level                     1.000000         NaN           NaN   \n",
       "BP_systolic                                NaN         NaN      0.689020   \n",
       "BP_Diastolic                               NaN    0.202858      1.000000   \n",
       "Pulse_rate                                 NaN    1.000000      0.202858   \n",
       "fasting_blood_glucose_mg_dl                NaN         NaN      0.106357   \n",
       "Marital_status                             NaN         NaN           NaN   \n",
       "gauna_perfor_not_perfor                    NaN         NaN      0.104954   \n",
       "bmi                                        NaN         NaN      0.200982   \n",
       "\n",
       "                             BP_systolic  fasting_blood_glucose_mg_dl  \n",
       "Sex                                  NaN                          NaN  \n",
       "Age                             0.329158                     0.188794  \n",
       "Weight_in_kg                    0.169638                          NaN  \n",
       "Length_height_cm                     NaN                          NaN  \n",
       "Haemoglobin_level                    NaN                          NaN  \n",
       "BP_systolic                     1.000000                     0.144944  \n",
       "BP_Diastolic                    0.689020                     0.106357  \n",
       "Pulse_rate                           NaN                          NaN  \n",
       "fasting_blood_glucose_mg_dl     0.144944                     1.000000  \n",
       "Marital_status                       NaN                          NaN  \n",
       "gauna_perfor_not_perfor         0.113461                          NaN  \n",
       "bmi                             0.171263                          NaN  "
      ]
     },
     "execution_count": 39,
     "metadata": {},
     "output_type": "execute_result"
    }
   ],
   "source": [
    "data_correlated = data.drop(['state_code','district_code','rural_urban', 'stratum', 'test_salt_iodine', 'record_code_iodine', 'duration_pregnanacy'], axis = 1)\n",
    "corr = data_correlated.corr()[['Haemoglobin_level', 'Pulse_rate', 'BP_Diastolic', 'BP_systolic', 'fasting_blood_glucose_mg_dl']]\n",
    "corr.where(abs(corr)>0.1)"
   ]
  },
  {
   "cell_type": "code",
   "execution_count": null,
   "metadata": {},
   "outputs": [],
   "source": [
    "#Create a Anemia_dataframe "
   ]
  },
  {
   "cell_type": "code",
   "execution_count": 40,
   "metadata": {},
   "outputs": [
    {
     "data": {
      "text/html": [
       "<div>\n",
       "<style scoped>\n",
       "    .dataframe tbody tr th:only-of-type {\n",
       "        vertical-align: middle;\n",
       "    }\n",
       "\n",
       "    .dataframe tbody tr th {\n",
       "        vertical-align: top;\n",
       "    }\n",
       "\n",
       "    .dataframe thead th {\n",
       "        text-align: right;\n",
       "    }\n",
       "</style>\n",
       "<table border=\"1\" class=\"dataframe\">\n",
       "  <thead>\n",
       "    <tr style=\"text-align: right;\">\n",
       "      <th></th>\n",
       "      <th>stratum</th>\n",
       "      <th>test_salt_iodine</th>\n",
       "      <th>record_code_iodine</th>\n",
       "      <th>Sex</th>\n",
       "      <th>Age</th>\n",
       "      <th>Weight_in_kg</th>\n",
       "      <th>Length_height_cm</th>\n",
       "      <th>Haemoglobin_level</th>\n",
       "      <th>BP_systolic</th>\n",
       "      <th>BP_Diastolic</th>\n",
       "      <th>Pulse_rate</th>\n",
       "      <th>fasting_blood_glucose_mg_dl</th>\n",
       "      <th>Marital_status</th>\n",
       "      <th>gauna_perfor_not_perfor</th>\n",
       "      <th>duration_pregnanacy</th>\n",
       "      <th>bmi</th>\n",
       "    </tr>\n",
       "  </thead>\n",
       "  <tbody>\n",
       "    <tr>\n",
       "      <th>0</th>\n",
       "      <td>2</td>\n",
       "      <td>7</td>\n",
       "      <td>0</td>\n",
       "      <td>2</td>\n",
       "      <td>37.0</td>\n",
       "      <td>48.099998</td>\n",
       "      <td>147.89999</td>\n",
       "      <td>8.0</td>\n",
       "      <td>125.5</td>\n",
       "      <td>67.0</td>\n",
       "      <td>75.0</td>\n",
       "      <td>89.0</td>\n",
       "      <td>1.0</td>\n",
       "      <td>3.0</td>\n",
       "      <td>NaN</td>\n",
       "      <td>21.989167</td>\n",
       "    </tr>\n",
       "    <tr>\n",
       "      <th>7</th>\n",
       "      <td>2</td>\n",
       "      <td>7</td>\n",
       "      <td>0</td>\n",
       "      <td>2</td>\n",
       "      <td>47.0</td>\n",
       "      <td>49.200001</td>\n",
       "      <td>147.70000</td>\n",
       "      <td>10.5</td>\n",
       "      <td>133.0</td>\n",
       "      <td>91.0</td>\n",
       "      <td>97.0</td>\n",
       "      <td>91.0</td>\n",
       "      <td>1.0</td>\n",
       "      <td>3.0</td>\n",
       "      <td>NaN</td>\n",
       "      <td>22.552990</td>\n",
       "    </tr>\n",
       "    <tr>\n",
       "      <th>10</th>\n",
       "      <td>2</td>\n",
       "      <td>7</td>\n",
       "      <td>0</td>\n",
       "      <td>1</td>\n",
       "      <td>33.0</td>\n",
       "      <td>53.599998</td>\n",
       "      <td>164.10001</td>\n",
       "      <td>8.0</td>\n",
       "      <td>126.5</td>\n",
       "      <td>89.0</td>\n",
       "      <td>75.0</td>\n",
       "      <td>90.0</td>\n",
       "      <td>NaN</td>\n",
       "      <td>NaN</td>\n",
       "      <td>NaN</td>\n",
       "      <td>19.904330</td>\n",
       "    </tr>\n",
       "    <tr>\n",
       "      <th>11</th>\n",
       "      <td>2</td>\n",
       "      <td>7</td>\n",
       "      <td>0</td>\n",
       "      <td>2</td>\n",
       "      <td>25.0</td>\n",
       "      <td>47.000000</td>\n",
       "      <td>147.80000</td>\n",
       "      <td>11.0</td>\n",
       "      <td>116.5</td>\n",
       "      <td>67.5</td>\n",
       "      <td>94.5</td>\n",
       "      <td>96.0</td>\n",
       "      <td>1.0</td>\n",
       "      <td>2.0</td>\n",
       "      <td>7.0</td>\n",
       "      <td>21.515378</td>\n",
       "    </tr>\n",
       "    <tr>\n",
       "      <th>19</th>\n",
       "      <td>2</td>\n",
       "      <td>7</td>\n",
       "      <td>0</td>\n",
       "      <td>1</td>\n",
       "      <td>45.0</td>\n",
       "      <td>49.500000</td>\n",
       "      <td>160.70000</td>\n",
       "      <td>12.5</td>\n",
       "      <td>142.5</td>\n",
       "      <td>81.5</td>\n",
       "      <td>87.0</td>\n",
       "      <td>85.0</td>\n",
       "      <td>NaN</td>\n",
       "      <td>NaN</td>\n",
       "      <td>NaN</td>\n",
       "      <td>19.167852</td>\n",
       "    </tr>\n",
       "  </tbody>\n",
       "</table>\n",
       "</div>"
      ],
      "text/plain": [
       "    stratum  test_salt_iodine  record_code_iodine  Sex   Age  Weight_in_kg  \\\n",
       "0         2                 7                   0    2  37.0     48.099998   \n",
       "7         2                 7                   0    2  47.0     49.200001   \n",
       "10        2                 7                   0    1  33.0     53.599998   \n",
       "11        2                 7                   0    2  25.0     47.000000   \n",
       "19        2                 7                   0    1  45.0     49.500000   \n",
       "\n",
       "    Length_height_cm  Haemoglobin_level  BP_systolic  BP_Diastolic  \\\n",
       "0          147.89999                8.0        125.5          67.0   \n",
       "7          147.70000               10.5        133.0          91.0   \n",
       "10         164.10001                8.0        126.5          89.0   \n",
       "11         147.80000               11.0        116.5          67.5   \n",
       "19         160.70000               12.5        142.5          81.5   \n",
       "\n",
       "    Pulse_rate  fasting_blood_glucose_mg_dl  Marital_status  \\\n",
       "0         75.0                         89.0             1.0   \n",
       "7         97.0                         91.0             1.0   \n",
       "10        75.0                         90.0             NaN   \n",
       "11        94.5                         96.0             1.0   \n",
       "19        87.0                         85.0             NaN   \n",
       "\n",
       "    gauna_perfor_not_perfor  duration_pregnanacy        bmi  \n",
       "0                       3.0                  NaN  21.989167  \n",
       "7                       3.0                  NaN  22.552990  \n",
       "10                      NaN                  NaN  19.904330  \n",
       "11                      2.0                  7.0  21.515378  \n",
       "19                      NaN                  NaN  19.167852  "
      ]
     },
     "execution_count": 40,
     "metadata": {},
     "output_type": "execute_result"
    }
   ],
   "source": [
    "data_anemia = data[[\"stratum\",\"test_salt_iodine\",\"record_code_iodine\",\"Sex\",\"Age\",\"Weight_in_kg\",\"Length_height_cm\",\"Haemoglobin_level\",\"BP_systolic\",\"BP_Diastolic\",\"Pulse_rate\",\\\n",
    "                    \"fasting_blood_glucose_mg_dl\",\"Marital_status\",'gauna_perfor_not_perfor',\"duration_pregnanacy\",\"bmi\"]]\n",
    "data_anemia.head()"
   ]
  },
  {
   "cell_type": "code",
   "execution_count": 41,
   "metadata": {},
   "outputs": [
    {
     "data": {
      "text/html": [
       "<div>\n",
       "<style scoped>\n",
       "    .dataframe tbody tr th:only-of-type {\n",
       "        vertical-align: middle;\n",
       "    }\n",
       "\n",
       "    .dataframe tbody tr th {\n",
       "        vertical-align: top;\n",
       "    }\n",
       "\n",
       "    .dataframe thead th {\n",
       "        text-align: right;\n",
       "    }\n",
       "</style>\n",
       "<table border=\"1\" class=\"dataframe\">\n",
       "  <thead>\n",
       "    <tr style=\"text-align: right;\">\n",
       "      <th></th>\n",
       "      <th>stratum</th>\n",
       "      <th>test_salt_iodine</th>\n",
       "      <th>record_code_iodine</th>\n",
       "      <th>Sex</th>\n",
       "      <th>Age</th>\n",
       "      <th>Weight_in_kg</th>\n",
       "      <th>Length_height_cm</th>\n",
       "      <th>Haemoglobin_level</th>\n",
       "      <th>BP_systolic</th>\n",
       "      <th>BP_Diastolic</th>\n",
       "      <th>Pulse_rate</th>\n",
       "      <th>fasting_blood_glucose_mg_dl</th>\n",
       "      <th>Marital_status</th>\n",
       "      <th>gauna_perfor_not_perfor</th>\n",
       "      <th>duration_pregnanacy</th>\n",
       "      <th>bmi</th>\n",
       "    </tr>\n",
       "  </thead>\n",
       "  <tbody>\n",
       "    <tr>\n",
       "      <th>count</th>\n",
       "      <td>762973.000000</td>\n",
       "      <td>762973.000000</td>\n",
       "      <td>762973.000000</td>\n",
       "      <td>762973.000000</td>\n",
       "      <td>762973.000000</td>\n",
       "      <td>754274.000000</td>\n",
       "      <td>751726.000000</td>\n",
       "      <td>762973.000000</td>\n",
       "      <td>730159.000000</td>\n",
       "      <td>730159.000000</td>\n",
       "      <td>739014.000000</td>\n",
       "      <td>727724.000000</td>\n",
       "      <td>289472.000000</td>\n",
       "      <td>225144.000000</td>\n",
       "      <td>41008.000000</td>\n",
       "      <td>750828.000000</td>\n",
       "    </tr>\n",
       "    <tr>\n",
       "      <th>mean</th>\n",
       "      <td>1.100703</td>\n",
       "      <td>22.625305</td>\n",
       "      <td>0.885519</td>\n",
       "      <td>1.538913</td>\n",
       "      <td>40.374570</td>\n",
       "      <td>50.994421</td>\n",
       "      <td>156.266167</td>\n",
       "      <td>9.920145</td>\n",
       "      <td>122.549664</td>\n",
       "      <td>78.101012</td>\n",
       "      <td>80.284438</td>\n",
       "      <td>95.813546</td>\n",
       "      <td>1.287707</td>\n",
       "      <td>2.743911</td>\n",
       "      <td>8.072157</td>\n",
       "      <td>20.842146</td>\n",
       "    </tr>\n",
       "    <tr>\n",
       "      <th>std</th>\n",
       "      <td>0.897209</td>\n",
       "      <td>10.005129</td>\n",
       "      <td>0.418985</td>\n",
       "      <td>0.498484</td>\n",
       "      <td>16.175496</td>\n",
       "      <td>12.529271</td>\n",
       "      <td>8.727641</td>\n",
       "      <td>2.345420</td>\n",
       "      <td>18.661753</td>\n",
       "      <td>12.853239</td>\n",
       "      <td>11.590851</td>\n",
       "      <td>12.055257</td>\n",
       "      <td>0.646650</td>\n",
       "      <td>0.573320</td>\n",
       "      <td>5.916971</td>\n",
       "      <td>4.350439</td>\n",
       "    </tr>\n",
       "    <tr>\n",
       "      <th>min</th>\n",
       "      <td>0.000000</td>\n",
       "      <td>0.000000</td>\n",
       "      <td>0.000000</td>\n",
       "      <td>1.000000</td>\n",
       "      <td>18.000000</td>\n",
       "      <td>20.100000</td>\n",
       "      <td>127.200000</td>\n",
       "      <td>3.000000</td>\n",
       "      <td>60.000000</td>\n",
       "      <td>40.000000</td>\n",
       "      <td>40.000000</td>\n",
       "      <td>50.000000</td>\n",
       "      <td>1.000000</td>\n",
       "      <td>1.000000</td>\n",
       "      <td>0.000000</td>\n",
       "      <td>6.509600</td>\n",
       "    </tr>\n",
       "    <tr>\n",
       "      <th>25%</th>\n",
       "      <td>0.000000</td>\n",
       "      <td>15.000000</td>\n",
       "      <td>1.000000</td>\n",
       "      <td>1.000000</td>\n",
       "      <td>27.000000</td>\n",
       "      <td>44.299999</td>\n",
       "      <td>150.100010</td>\n",
       "      <td>8.400000</td>\n",
       "      <td>110.500000</td>\n",
       "      <td>70.000000</td>\n",
       "      <td>72.000000</td>\n",
       "      <td>89.000000</td>\n",
       "      <td>1.000000</td>\n",
       "      <td>3.000000</td>\n",
       "      <td>4.000000</td>\n",
       "      <td>18.572724</td>\n",
       "    </tr>\n",
       "    <tr>\n",
       "      <th>50%</th>\n",
       "      <td>1.000000</td>\n",
       "      <td>30.000000</td>\n",
       "      <td>1.000000</td>\n",
       "      <td>2.000000</td>\n",
       "      <td>38.000000</td>\n",
       "      <td>50.200001</td>\n",
       "      <td>156.100010</td>\n",
       "      <td>9.800000</td>\n",
       "      <td>121.000000</td>\n",
       "      <td>78.000000</td>\n",
       "      <td>79.500000</td>\n",
       "      <td>96.000000</td>\n",
       "      <td>1.000000</td>\n",
       "      <td>3.000000</td>\n",
       "      <td>6.000000</td>\n",
       "      <td>20.576062</td>\n",
       "    </tr>\n",
       "    <tr>\n",
       "      <th>75%</th>\n",
       "      <td>2.000000</td>\n",
       "      <td>30.000000</td>\n",
       "      <td>1.000000</td>\n",
       "      <td>2.000000</td>\n",
       "      <td>51.000000</td>\n",
       "      <td>56.400002</td>\n",
       "      <td>162.500000</td>\n",
       "      <td>11.500000</td>\n",
       "      <td>132.500000</td>\n",
       "      <td>85.500000</td>\n",
       "      <td>87.500000</td>\n",
       "      <td>102.000000</td>\n",
       "      <td>1.000000</td>\n",
       "      <td>3.000000</td>\n",
       "      <td>10.000000</td>\n",
       "      <td>22.597083</td>\n",
       "    </tr>\n",
       "    <tr>\n",
       "      <th>max</th>\n",
       "      <td>2.000000</td>\n",
       "      <td>67.000000</td>\n",
       "      <td>2.000000</td>\n",
       "      <td>2.000000</td>\n",
       "      <td>100.000000</td>\n",
       "      <td>6602.000000</td>\n",
       "      <td>185.000000</td>\n",
       "      <td>18.000000</td>\n",
       "      <td>249.500000</td>\n",
       "      <td>160.000000</td>\n",
       "      <td>140.000000</td>\n",
       "      <td>154.000000</td>\n",
       "      <td>7.000000</td>\n",
       "      <td>3.000000</td>\n",
       "      <td>131.000000</td>\n",
       "      <td>2279.063409</td>\n",
       "    </tr>\n",
       "  </tbody>\n",
       "</table>\n",
       "</div>"
      ],
      "text/plain": [
       "             stratum  test_salt_iodine  record_code_iodine            Sex  \\\n",
       "count  762973.000000     762973.000000       762973.000000  762973.000000   \n",
       "mean        1.100703         22.625305            0.885519       1.538913   \n",
       "std         0.897209         10.005129            0.418985       0.498484   \n",
       "min         0.000000          0.000000            0.000000       1.000000   \n",
       "25%         0.000000         15.000000            1.000000       1.000000   \n",
       "50%         1.000000         30.000000            1.000000       2.000000   \n",
       "75%         2.000000         30.000000            1.000000       2.000000   \n",
       "max         2.000000         67.000000            2.000000       2.000000   \n",
       "\n",
       "                 Age   Weight_in_kg  Length_height_cm  Haemoglobin_level  \\\n",
       "count  762973.000000  754274.000000     751726.000000      762973.000000   \n",
       "mean       40.374570      50.994421        156.266167           9.920145   \n",
       "std        16.175496      12.529271          8.727641           2.345420   \n",
       "min        18.000000      20.100000        127.200000           3.000000   \n",
       "25%        27.000000      44.299999        150.100010           8.400000   \n",
       "50%        38.000000      50.200001        156.100010           9.800000   \n",
       "75%        51.000000      56.400002        162.500000          11.500000   \n",
       "max       100.000000    6602.000000        185.000000          18.000000   \n",
       "\n",
       "         BP_systolic   BP_Diastolic     Pulse_rate  \\\n",
       "count  730159.000000  730159.000000  739014.000000   \n",
       "mean      122.549664      78.101012      80.284438   \n",
       "std        18.661753      12.853239      11.590851   \n",
       "min        60.000000      40.000000      40.000000   \n",
       "25%       110.500000      70.000000      72.000000   \n",
       "50%       121.000000      78.000000      79.500000   \n",
       "75%       132.500000      85.500000      87.500000   \n",
       "max       249.500000     160.000000     140.000000   \n",
       "\n",
       "       fasting_blood_glucose_mg_dl  Marital_status  gauna_perfor_not_perfor  \\\n",
       "count                727724.000000   289472.000000            225144.000000   \n",
       "mean                     95.813546        1.287707                 2.743911   \n",
       "std                      12.055257        0.646650                 0.573320   \n",
       "min                      50.000000        1.000000                 1.000000   \n",
       "25%                      89.000000        1.000000                 3.000000   \n",
       "50%                      96.000000        1.000000                 3.000000   \n",
       "75%                     102.000000        1.000000                 3.000000   \n",
       "max                     154.000000        7.000000                 3.000000   \n",
       "\n",
       "       duration_pregnanacy            bmi  \n",
       "count         41008.000000  750828.000000  \n",
       "mean              8.072157      20.842146  \n",
       "std               5.916971       4.350439  \n",
       "min               0.000000       6.509600  \n",
       "25%               4.000000      18.572724  \n",
       "50%               6.000000      20.576062  \n",
       "75%              10.000000      22.597083  \n",
       "max             131.000000    2279.063409  "
      ]
     },
     "execution_count": 41,
     "metadata": {},
     "output_type": "execute_result"
    }
   ],
   "source": [
    "data_anemia.describe(include='all')"
   ]
  },
  {
   "cell_type": "code",
   "execution_count": null,
   "metadata": {},
   "outputs": [],
   "source": [
    "# Create a new column anemia where for Male_HB is less than 13 and for female_HB is less than 12\n",
    "# In Anemia Column: 1 indicates Anemia and 0 indicates no Anemia"
   ]
  },
  {
   "cell_type": "code",
   "execution_count": 42,
   "metadata": {},
   "outputs": [
    {
     "name": "stderr",
     "output_type": "stream",
     "text": [
      "E:\\Anaconda\\lib\\site-packages\\ipykernel_launcher.py:1: SettingWithCopyWarning: \n",
      "A value is trying to be set on a copy of a slice from a DataFrame.\n",
      "Try using .loc[row_indexer,col_indexer] = value instead\n",
      "\n",
      "See the caveats in the documentation: https://pandas.pydata.org/pandas-docs/stable/user_guide/indexing.html#returning-a-view-versus-a-copy\n",
      "  \"\"\"Entry point for launching an IPython kernel.\n"
     ]
    }
   ],
   "source": [
    "data_anemia['anemia'] = np.where(((data_anemia['Sex'] == 1) & (data_anemia['Haemoglobin_level'] < 13.0)) | ((data_anemia['Sex'] == 2) & (data_anemia['Haemoglobin_level'] < 12.0)), 1, 0)"
   ]
  },
  {
   "cell_type": "code",
   "execution_count": 43,
   "metadata": {},
   "outputs": [
    {
     "data": {
      "text/html": [
       "<div>\n",
       "<style scoped>\n",
       "    .dataframe tbody tr th:only-of-type {\n",
       "        vertical-align: middle;\n",
       "    }\n",
       "\n",
       "    .dataframe tbody tr th {\n",
       "        vertical-align: top;\n",
       "    }\n",
       "\n",
       "    .dataframe thead th {\n",
       "        text-align: right;\n",
       "    }\n",
       "</style>\n",
       "<table border=\"1\" class=\"dataframe\">\n",
       "  <thead>\n",
       "    <tr style=\"text-align: right;\">\n",
       "      <th></th>\n",
       "      <th>Sex</th>\n",
       "      <th>Haemoglobin_level</th>\n",
       "      <th>anemia</th>\n",
       "    </tr>\n",
       "  </thead>\n",
       "  <tbody>\n",
       "    <tr>\n",
       "      <th>0</th>\n",
       "      <td>2</td>\n",
       "      <td>8.0</td>\n",
       "      <td>1</td>\n",
       "    </tr>\n",
       "    <tr>\n",
       "      <th>7</th>\n",
       "      <td>2</td>\n",
       "      <td>10.5</td>\n",
       "      <td>1</td>\n",
       "    </tr>\n",
       "    <tr>\n",
       "      <th>10</th>\n",
       "      <td>1</td>\n",
       "      <td>8.0</td>\n",
       "      <td>1</td>\n",
       "    </tr>\n",
       "    <tr>\n",
       "      <th>11</th>\n",
       "      <td>2</td>\n",
       "      <td>11.0</td>\n",
       "      <td>1</td>\n",
       "    </tr>\n",
       "    <tr>\n",
       "      <th>19</th>\n",
       "      <td>1</td>\n",
       "      <td>12.5</td>\n",
       "      <td>1</td>\n",
       "    </tr>\n",
       "    <tr>\n",
       "      <th>...</th>\n",
       "      <td>...</td>\n",
       "      <td>...</td>\n",
       "      <td>...</td>\n",
       "    </tr>\n",
       "    <tr>\n",
       "      <th>1889308</th>\n",
       "      <td>1</td>\n",
       "      <td>11.2</td>\n",
       "      <td>1</td>\n",
       "    </tr>\n",
       "    <tr>\n",
       "      <th>1889309</th>\n",
       "      <td>2</td>\n",
       "      <td>5.6</td>\n",
       "      <td>1</td>\n",
       "    </tr>\n",
       "    <tr>\n",
       "      <th>1889314</th>\n",
       "      <td>2</td>\n",
       "      <td>10.2</td>\n",
       "      <td>1</td>\n",
       "    </tr>\n",
       "    <tr>\n",
       "      <th>1889315</th>\n",
       "      <td>2</td>\n",
       "      <td>9.6</td>\n",
       "      <td>1</td>\n",
       "    </tr>\n",
       "    <tr>\n",
       "      <th>1889316</th>\n",
       "      <td>2</td>\n",
       "      <td>10.2</td>\n",
       "      <td>1</td>\n",
       "    </tr>\n",
       "  </tbody>\n",
       "</table>\n",
       "<p>762973 rows × 3 columns</p>\n",
       "</div>"
      ],
      "text/plain": [
       "         Sex  Haemoglobin_level  anemia\n",
       "0          2                8.0       1\n",
       "7          2               10.5       1\n",
       "10         1                8.0       1\n",
       "11         2               11.0       1\n",
       "19         1               12.5       1\n",
       "...      ...                ...     ...\n",
       "1889308    1               11.2       1\n",
       "1889309    2                5.6       1\n",
       "1889314    2               10.2       1\n",
       "1889315    2                9.6       1\n",
       "1889316    2               10.2       1\n",
       "\n",
       "[762973 rows x 3 columns]"
      ]
     },
     "execution_count": 43,
     "metadata": {},
     "output_type": "execute_result"
    }
   ],
   "source": [
    "data_anemia[['Sex','Haemoglobin_level','anemia']]"
   ]
  },
  {
   "cell_type": "code",
   "execution_count": 45,
   "metadata": {},
   "outputs": [
    {
     "data": {
      "text/plain": [
       "1    655418\n",
       "0    107555\n",
       "Name: anemia, dtype: int64"
      ]
     },
     "execution_count": 45,
     "metadata": {},
     "output_type": "execute_result"
    }
   ],
   "source": [
    "data_anemia['anemia'].value_counts()"
   ]
  },
  {
   "cell_type": "code",
   "execution_count": null,
   "metadata": {},
   "outputs": [],
   "source": [
    "#Drop HB_level Column"
   ]
  },
  {
   "cell_type": "code",
   "execution_count": 46,
   "metadata": {},
   "outputs": [],
   "source": [
    "data_anemia = data_anemia.drop('Haemoglobin_level', axis = 1)"
   ]
  },
  {
   "cell_type": "code",
   "execution_count": null,
   "metadata": {},
   "outputs": [],
   "source": [
    "#Remove null values using Simple_Imputer"
   ]
  },
  {
   "cell_type": "code",
   "execution_count": 47,
   "metadata": {},
   "outputs": [],
   "source": [
    "from sklearn.impute import SimpleImputer\n",
    "imputer = SimpleImputer()\n",
    "data_anemia_imputed = pd.DataFrame(imputer.fit_transform(data_anemia))\n",
    "data_anemia_imputed.columns = data_anemia.columns\n",
    "data_anemia_imputed.index = data_anemia.index\n",
    "data_anemia = data_anemia_imputed"
   ]
  },
  {
   "cell_type": "code",
   "execution_count": 48,
   "metadata": {},
   "outputs": [
    {
     "data": {
      "text/html": [
       "<div>\n",
       "<style scoped>\n",
       "    .dataframe tbody tr th:only-of-type {\n",
       "        vertical-align: middle;\n",
       "    }\n",
       "\n",
       "    .dataframe tbody tr th {\n",
       "        vertical-align: top;\n",
       "    }\n",
       "\n",
       "    .dataframe thead th {\n",
       "        text-align: right;\n",
       "    }\n",
       "</style>\n",
       "<table border=\"1\" class=\"dataframe\">\n",
       "  <thead>\n",
       "    <tr style=\"text-align: right;\">\n",
       "      <th></th>\n",
       "      <th>stratum</th>\n",
       "      <th>test_salt_iodine</th>\n",
       "      <th>record_code_iodine</th>\n",
       "      <th>Sex</th>\n",
       "      <th>Age</th>\n",
       "      <th>Weight_in_kg</th>\n",
       "      <th>Length_height_cm</th>\n",
       "      <th>BP_systolic</th>\n",
       "      <th>BP_Diastolic</th>\n",
       "      <th>Pulse_rate</th>\n",
       "      <th>fasting_blood_glucose_mg_dl</th>\n",
       "      <th>Marital_status</th>\n",
       "      <th>gauna_perfor_not_perfor</th>\n",
       "      <th>duration_pregnanacy</th>\n",
       "      <th>bmi</th>\n",
       "      <th>anemia</th>\n",
       "    </tr>\n",
       "  </thead>\n",
       "  <tbody>\n",
       "    <tr>\n",
       "      <th>0</th>\n",
       "      <td>2.0</td>\n",
       "      <td>7.0</td>\n",
       "      <td>0.0</td>\n",
       "      <td>2.0</td>\n",
       "      <td>37.0</td>\n",
       "      <td>48.099998</td>\n",
       "      <td>147.89999</td>\n",
       "      <td>125.5</td>\n",
       "      <td>67.0</td>\n",
       "      <td>75.0</td>\n",
       "      <td>89.0</td>\n",
       "      <td>1.000000</td>\n",
       "      <td>3.000000</td>\n",
       "      <td>8.072157</td>\n",
       "      <td>21.989167</td>\n",
       "      <td>1.0</td>\n",
       "    </tr>\n",
       "    <tr>\n",
       "      <th>7</th>\n",
       "      <td>2.0</td>\n",
       "      <td>7.0</td>\n",
       "      <td>0.0</td>\n",
       "      <td>2.0</td>\n",
       "      <td>47.0</td>\n",
       "      <td>49.200001</td>\n",
       "      <td>147.70000</td>\n",
       "      <td>133.0</td>\n",
       "      <td>91.0</td>\n",
       "      <td>97.0</td>\n",
       "      <td>91.0</td>\n",
       "      <td>1.000000</td>\n",
       "      <td>3.000000</td>\n",
       "      <td>8.072157</td>\n",
       "      <td>22.552990</td>\n",
       "      <td>1.0</td>\n",
       "    </tr>\n",
       "    <tr>\n",
       "      <th>10</th>\n",
       "      <td>2.0</td>\n",
       "      <td>7.0</td>\n",
       "      <td>0.0</td>\n",
       "      <td>1.0</td>\n",
       "      <td>33.0</td>\n",
       "      <td>53.599998</td>\n",
       "      <td>164.10001</td>\n",
       "      <td>126.5</td>\n",
       "      <td>89.0</td>\n",
       "      <td>75.0</td>\n",
       "      <td>90.0</td>\n",
       "      <td>1.287707</td>\n",
       "      <td>2.743911</td>\n",
       "      <td>8.072157</td>\n",
       "      <td>19.904330</td>\n",
       "      <td>1.0</td>\n",
       "    </tr>\n",
       "    <tr>\n",
       "      <th>11</th>\n",
       "      <td>2.0</td>\n",
       "      <td>7.0</td>\n",
       "      <td>0.0</td>\n",
       "      <td>2.0</td>\n",
       "      <td>25.0</td>\n",
       "      <td>47.000000</td>\n",
       "      <td>147.80000</td>\n",
       "      <td>116.5</td>\n",
       "      <td>67.5</td>\n",
       "      <td>94.5</td>\n",
       "      <td>96.0</td>\n",
       "      <td>1.000000</td>\n",
       "      <td>2.000000</td>\n",
       "      <td>7.000000</td>\n",
       "      <td>21.515378</td>\n",
       "      <td>1.0</td>\n",
       "    </tr>\n",
       "    <tr>\n",
       "      <th>19</th>\n",
       "      <td>2.0</td>\n",
       "      <td>7.0</td>\n",
       "      <td>0.0</td>\n",
       "      <td>1.0</td>\n",
       "      <td>45.0</td>\n",
       "      <td>49.500000</td>\n",
       "      <td>160.70000</td>\n",
       "      <td>142.5</td>\n",
       "      <td>81.5</td>\n",
       "      <td>87.0</td>\n",
       "      <td>85.0</td>\n",
       "      <td>1.287707</td>\n",
       "      <td>2.743911</td>\n",
       "      <td>8.072157</td>\n",
       "      <td>19.167852</td>\n",
       "      <td>1.0</td>\n",
       "    </tr>\n",
       "  </tbody>\n",
       "</table>\n",
       "</div>"
      ],
      "text/plain": [
       "    stratum  test_salt_iodine  record_code_iodine  Sex   Age  Weight_in_kg  \\\n",
       "0       2.0               7.0                 0.0  2.0  37.0     48.099998   \n",
       "7       2.0               7.0                 0.0  2.0  47.0     49.200001   \n",
       "10      2.0               7.0                 0.0  1.0  33.0     53.599998   \n",
       "11      2.0               7.0                 0.0  2.0  25.0     47.000000   \n",
       "19      2.0               7.0                 0.0  1.0  45.0     49.500000   \n",
       "\n",
       "    Length_height_cm  BP_systolic  BP_Diastolic  Pulse_rate  \\\n",
       "0          147.89999        125.5          67.0        75.0   \n",
       "7          147.70000        133.0          91.0        97.0   \n",
       "10         164.10001        126.5          89.0        75.0   \n",
       "11         147.80000        116.5          67.5        94.5   \n",
       "19         160.70000        142.5          81.5        87.0   \n",
       "\n",
       "    fasting_blood_glucose_mg_dl  Marital_status  gauna_perfor_not_perfor  \\\n",
       "0                          89.0        1.000000                 3.000000   \n",
       "7                          91.0        1.000000                 3.000000   \n",
       "10                         90.0        1.287707                 2.743911   \n",
       "11                         96.0        1.000000                 2.000000   \n",
       "19                         85.0        1.287707                 2.743911   \n",
       "\n",
       "    duration_pregnanacy        bmi  anemia  \n",
       "0              8.072157  21.989167     1.0  \n",
       "7              8.072157  22.552990     1.0  \n",
       "10             8.072157  19.904330     1.0  \n",
       "11             7.000000  21.515378     1.0  \n",
       "19             8.072157  19.167852     1.0  "
      ]
     },
     "execution_count": 48,
     "metadata": {},
     "output_type": "execute_result"
    }
   ],
   "source": [
    "data_anemia.head()"
   ]
  },
  {
   "cell_type": "code",
   "execution_count": null,
   "metadata": {},
   "outputs": [],
   "source": [
    "#Split the Dataframe into training and test set and test set size is 20%"
   ]
  },
  {
   "cell_type": "code",
   "execution_count": 49,
   "metadata": {},
   "outputs": [],
   "source": [
    "from sklearn.model_selection import train_test_split\n",
    "\n",
    "X = data_anemia\n",
    "y = data_anemia.anemia\n",
    "\n",
    "X_train,X_test,y_train,y_test = train_test_split(X,y,test_size=0.2)"
   ]
  },
  {
   "cell_type": "code",
   "execution_count": 50,
   "metadata": {},
   "outputs": [
    {
     "data": {
      "text/plain": [
       "anemia\n",
       "0.0     85887\n",
       "1.0    524491\n",
       "Name: anemia, dtype: int64"
      ]
     },
     "execution_count": 50,
     "metadata": {},
     "output_type": "execute_result"
    }
   ],
   "source": [
    "X_train.groupby('anemia')['anemia'].count()"
   ]
  },
  {
   "cell_type": "code",
   "execution_count": 51,
   "metadata": {},
   "outputs": [],
   "source": [
    "y_train = X_train.pop('anemia')\n",
    "y_test = X_test.pop('anemia')"
   ]
  },
  {
   "cell_type": "code",
   "execution_count": null,
   "metadata": {},
   "outputs": [],
   "source": [
    "#Apply Random Forest classifier and find accuracy"
   ]
  },
  {
   "cell_type": "code",
   "execution_count": 53,
   "metadata": {},
   "outputs": [],
   "source": [
    "from sklearn.ensemble import RandomForestClassifier\n",
    "from sklearn.metrics import confusion_matrix\n",
    "\n",
    "rf = RandomForestClassifier(n_estimators=100, max_depth=4, random_state=0).fit(X_train, y_train)"
   ]
  },
  {
   "cell_type": "code",
   "execution_count": 54,
   "metadata": {},
   "outputs": [
    {
     "name": "stdout",
     "output_type": "stream",
     "text": [
      "Confusion matrix:\n",
      "[[     0  21668]\n",
      " [     0 130927]]\n"
     ]
    }
   ],
   "source": [
    "y_pred = rf.predict(X_test)\n",
    "confusion_matrix_result = confusion_matrix(y_test.values, y_pred)\n",
    "print(\"Confusion matrix:\\n%s\" % confusion_matrix_result)"
   ]
  },
  {
   "cell_type": "code",
   "execution_count": 55,
   "metadata": {},
   "outputs": [
    {
     "name": "stderr",
     "output_type": "stream",
     "text": [
      "E:\\Anaconda\\lib\\site-packages\\sklearn\\metrics\\_classification.py:1272: UndefinedMetricWarning: Precision and F-score are ill-defined and being set to 0.0 in labels with no predicted samples. Use `zero_division` parameter to control this behavior.\n",
      "  _warn_prf(average, modifier, msg_start, len(result))\n"
     ]
    },
    {
     "name": "stdout",
     "output_type": "stream",
     "text": [
      "              precision    recall  f1-score   support\n",
      "\n",
      "         0.0       0.00      0.00      0.00     21668\n",
      "         1.0       0.86      1.00      0.92    130927\n",
      "\n",
      "    accuracy                           0.86    152595\n",
      "   macro avg       0.43      0.50      0.46    152595\n",
      "weighted avg       0.74      0.86      0.79    152595\n",
      "\n"
     ]
    }
   ],
   "source": [
    "from sklearn.metrics import  classification_report, accuracy_score\n",
    "\n",
    "print(classification_report(y_test, y_pred))"
   ]
  },
  {
   "cell_type": "code",
   "execution_count": null,
   "metadata": {},
   "outputs": [],
   "source": [
    "# Accuracy of Random Forest classifier"
   ]
  },
  {
   "cell_type": "code",
   "execution_count": 56,
   "metadata": {},
   "outputs": [
    {
     "name": "stdout",
     "output_type": "stream",
     "text": [
      "Accuracy: 0.86\n"
     ]
    }
   ],
   "source": [
    "print(\"Accuracy: %.2f\" % accuracy_score(y_test, y_pred))"
   ]
  },
  {
   "cell_type": "code",
   "execution_count": null,
   "metadata": {},
   "outputs": [],
   "source": [
    "#Apply Logistic_Regression model"
   ]
  },
  {
   "cell_type": "code",
   "execution_count": 57,
   "metadata": {},
   "outputs": [
    {
     "name": "stderr",
     "output_type": "stream",
     "text": [
      "E:\\Anaconda\\lib\\site-packages\\sklearn\\linear_model\\_logistic.py:940: ConvergenceWarning: lbfgs failed to converge (status=1):\n",
      "STOP: TOTAL NO. of ITERATIONS REACHED LIMIT.\n",
      "\n",
      "Increase the number of iterations (max_iter) or scale the data as shown in:\n",
      "    https://scikit-learn.org/stable/modules/preprocessing.html\n",
      "Please also refer to the documentation for alternative solver options:\n",
      "    https://scikit-learn.org/stable/modules/linear_model.html#logistic-regression\n",
      "  extra_warning_msg=_LOGISTIC_SOLVER_CONVERGENCE_MSG)\n"
     ]
    },
    {
     "data": {
      "text/plain": [
       "LogisticRegression(C=1.0, class_weight=None, dual=False, fit_intercept=True,\n",
       "                   intercept_scaling=1, l1_ratio=None, max_iter=100,\n",
       "                   multi_class='auto', n_jobs=None, penalty='l2',\n",
       "                   random_state=None, solver='lbfgs', tol=0.0001, verbose=0,\n",
       "                   warm_start=False)"
      ]
     },
     "execution_count": 57,
     "metadata": {},
     "output_type": "execute_result"
    }
   ],
   "source": [
    "\n",
    "from sklearn.linear_model import LogisticRegression\n",
    "logreg = LogisticRegression()\n",
    "logreg.fit(X_train,y_train)"
   ]
  },
  {
   "cell_type": "code",
   "execution_count": 58,
   "metadata": {},
   "outputs": [],
   "source": [
    "y_pred=logreg.predict(X_test)"
   ]
  },
  {
   "cell_type": "code",
   "execution_count": 60,
   "metadata": {},
   "outputs": [
    {
     "data": {
      "text/plain": [
       "array([[     0,  21668],\n",
       "       [     7, 130920]], dtype=int64)"
      ]
     },
     "execution_count": 60,
     "metadata": {},
     "output_type": "execute_result"
    }
   ],
   "source": [
    "from sklearn import metrics\n",
    "%matplotlib inline\n",
    "cnf_matrix = metrics.confusion_matrix(y_test, y_pred)\n",
    "cnf_matrix"
   ]
  },
  {
   "cell_type": "code",
   "execution_count": null,
   "metadata": {},
   "outputs": [],
   "source": [
    "#Calculate Accuracy for Logistic_Regression model"
   ]
  },
  {
   "cell_type": "code",
   "execution_count": 61,
   "metadata": {},
   "outputs": [
    {
     "name": "stdout",
     "output_type": "stream",
     "text": [
      "Accuracy: 0.8579573380517055\n"
     ]
    }
   ],
   "source": [
    "print(\"Accuracy:\",metrics.accuracy_score(y_test, y_pred))"
   ]
  },
  {
   "cell_type": "code",
   "execution_count": null,
   "metadata": {},
   "outputs": [],
   "source": []
  }
 ],
 "metadata": {
  "kernelspec": {
   "display_name": "Python 3",
   "language": "python",
   "name": "python3"
  },
  "language_info": {
   "codemirror_mode": {
    "name": "ipython",
    "version": 3
   },
   "file_extension": ".py",
   "mimetype": "text/x-python",
   "name": "python",
   "nbconvert_exporter": "python",
   "pygments_lexer": "ipython3",
   "version": "3.7.6"
  }
 },
 "nbformat": 4,
 "nbformat_minor": 4
}
